{
 "cells": [
  {
   "cell_type": "code",
   "execution_count": 3,
   "metadata": {
    "collapsed": false
   },
   "outputs": [],
   "source": [
    "import urllib2\n",
    " \n",
    "url = 'http://127.0.1.1:6006/'\n",
    "handle = urllib2.urlopen(url)\n",
    "data = handle.read()"
   ]
  },
  {
   "cell_type": "code",
   "execution_count": 4,
   "metadata": {
    "collapsed": false
   },
   "outputs": [
    {
     "name": "stdout",
     "output_type": "stream",
     "text": [
      "<!doctype html>\n",
      "<!--\n",
      "@license\n",
      "Copyright 2016 The TensorFlow Authors. All Rights Reserved.\n",
      "\n",
      "Licensed under the Apache License, Version 2.0 (the \"License\");\n",
      "you may not use this file except in compliance with the License.\n",
      "You may obtain a copy of the License at\n",
      "\n",
      "    http://www.apache.org/licenses/LICENSE-2.0\n",
      "\n",
      "Unless required by applicable law or agreed to in writing, software\n",
      "distributed under the License is distributed on an \"AS IS\" BASIS,\n",
      "WITHOUT WARRANTIES OR CONDITIONS OF ANY KIND, either express or implied.\n",
      "See the License for the specific language governing permissions and\n",
      "limitations under the License.\n",
      "-->\n",
      "\n",
      "<html>\n",
      "  <head>\n",
      "    <title>TensorBoard</title>\n",
      "    <script src=\"webcomponentsjs/webcomponents-lite.min.js\"></script>\n",
      "    <link rel=\"stylesheet\" type=\"text/css\" href=\"lib/css/global.css\">\n",
      "    <link rel=\"stylesheet\" type=\"text/css\" href=\"plottable/plottable.css\">\n",
      "    <link rel=\"shortcut icon\" href=\"data:image/png;base64,iVBORw0KGgoAAAANSUhEUgAAAMQAAADECAMAAAD3eH5ZAAAABGdBTUEAALGPC/xhBQAAAAFzUkdCAK7OHOkAAAD/UExURfFlKfaELvFmKfNyK/67NvWALf68Nv69NvNxK/20NfyyNP22NfN0K/JrKvqhMv2zNf25Nf24Nf23NfeOL/yzNPyvNPJoKviWMPmeMfN1K/WBLfePL/FnKfeML/qlMvR7LPmcMfeLL/aJLvR5LPFoKfJuKvR3LP66NvywNPeNL/V/LfaILv21Nf26NfNzK/NvK/R6LPmaMfyxNPqfMvV+LfurM/iSMPmbMfJvKvmdMfumM/qiMvmZMfytNPJqKvysNPN2K/iYMPNwK/upM/JtKvJsKviVMPaHLvaGLvJpKvR8LPaKLvqkMvuqM/aFLvR4LPuoM/iTMPWDLfiRMPmYMXS0ngkAAALoSURBVHja7drnctpAFIbhFUISSKJ3MKYa0+y4xTW9937/15JkJhlTjhrSrHRmvuf/as6L0YLFCgEAAAAAAAAAAAAAAAAAAAAAAAAAAAAAAMBJ6njenqspzgnPrsrGX9Zpi2tCrmnc6+dYNthVY5WpMmxQLWPdMsOuYVwzNj3ei2t3mQwaV43BJPDCS2NbJ5aEeuX/+9qcjQOtfFIkIkrvY2g4MVcmOBsFWbowKO/kNyj62gRpJcDaPBlxLr1B0zdG0C/8LzbJiJrshuvy1gzlA9+rD8mIkuyIJjFE3/dqnYwoSm7IUEPoD/wut8iIguSIDjlFxe/yfXL5vuSI21BTZLLhXoOILMO8Hxwa/L8bI0LfmUdhGowb2ZvT0e57pFNDgB06IlVyjmmIBl2T/nl9Rw6SD9GgSG/Q0uQkaW3XhmovKQ3eFQ4N2Uo9OQ1eFZsNerf7vP+rO4rhmY1Lg3vFVoP8+8BXg1sFnwbnCk4NThW8GuiKBDdkVVtTNFvNelVsNqTbyWnIOM2oeTRoyWvwmpJHg/ucXBrcJuXT4DwrpwZi2vy0VCx8YtXg/D2bU4OfiuQ3eFfE2KD4bfCqiLNB993gXsGlwa2CT4NzBacGIVQ6YsipQdh0xEdODUKjIxrSp88onZ8zbbFLg1DoiFO5BXvDGv2My9/JhUT8JUZTI0yDaNHLBzIbvqTDNYhUiVw/kdjQ1kM2CHFDPjKW+KzyRTF0g/ga9w9y+fANQpxvX8CU+Ny7FUWDeF3Y+g3lROIf4k0UDX9eCyvO531PyYhHga9zvPZJU5b73Y/eXj8Hv9D48n6HaF5LbcjRt8TZTtda5M1DfXnbkX1C0SHCFKzQB5Fe8op4GNGNHavvZESbVwT5r6W1xyuCPBY3Y9YgDqzknH/e3YfNzzuL30l0IebrZ5kKtuDIXt1n868ET6kf3/49tLvrCcZyF8Pu215dAAAAAAAAAAAAAAAAAAAAAAAAAAAAAAAAcPIbNrBhOaBXucoAAAAASUVORK5CYII=\">\n",
      "    <link rel=\"import\" href=\"dist/bazel-html-imports.html\">\n",
      "    <link rel=\"import\" href=\"dist/tf-tensorboard.html\">\n",
      "  </head>\n",
      "  <body>\n",
      "    <tf-tensorboard></tf-tensorboard>\n",
      "  </body>\n",
      "</html>\n",
      "\n"
     ]
    }
   ],
   "source": [
    "print(data)"
   ]
  },
  {
   "cell_type": "markdown",
   "metadata": {},
   "source": [
    "이건 안된다... 미친 짓이야..."
   ]
  },
  {
   "cell_type": "markdown",
   "metadata": {},
   "source": [
    "초기화"
   ]
  },
  {
   "cell_type": "code",
   "execution_count": 228,
   "metadata": {
    "collapsed": false
   },
   "outputs": [],
   "source": [
    "from selenium import webdriver\n",
    "from PIL import Image\n",
    "import time\n",
    "from cStringIO import StringIO\n",
    "\n",
    "binary = './chromedriver'\n",
    "options = webdriver.ChromeOptions()\n",
    "options.add_argument(\"--start-maximized\")\n",
    "driver = webdriver.Chrome(binary, chrome_options=options)\n",
    "driver.get('http://127.0.1.1:6006/')"
   ]
  },
  {
   "cell_type": "code",
   "execution_count": 229,
   "metadata": {
    "collapsed": true
   },
   "outputs": [],
   "source": [
    "time.sleep(1)\n",
    "\n",
    "scalars_n = 1\n",
    "while(1):\n",
    "    try:\n",
    "        dash = driver.find_element_by_xpath('//*[@id=\"center\"]/div/tf-panes-helper/tf-collapsable-pane[' + str(scalars_n) + ']/button')\n",
    "        dash.click()\n",
    "    except:\n",
    "        break\n",
    "    scalars_n += 1\n",
    "scalars_n -= 1\n",
    "\n",
    "time.sleep(1)\n",
    "\n",
    "for i in range(1, scalars_n+1):\n",
    "    dash = driver.find_element_by_xpath('//*[@id=\"center\"]/div/tf-panes-helper/tf-collapsable-pane[' + str(i) +']/iron-collapse/div/div/div/div[3]/paper-icon-button')\n",
    "    dash.click()\n",
    "    \n",
    "time.sleep(1)\n",
    "\n",
    "#toolbar_height = driver.find_element_by_xpath('//*[@id=\"toolbar-content\"]').size['height']\n",
    "#_ = driver.find_element_by_xpath('//*[@id=\"center\"]/div/tf-panes-helper/tf-collapsable-pane[1]/button').size['height']\n",
    "#__ = driver.find_element_by_xpath('//*[@id=\"center\"]/div/tf-panes-helper/tf-collapsable-pane[1]/button').location['y']\n",
    "#print(toolbar_height)\n",
    "#print(_ + __)\n",
    "\n",
    "#zero_offset = _ + __ - toolbar_height\n",
    "#print(zero_offset)\n",
    "\n",
    "driver.find_element_by_xpath('//*[@id=\"center\"]/div/tf-panes-helper/tf-collapsable-pane[1]/iron-collapse').click()\n",
    "time.sleep(1)\n",
    "\n",
    "driver.execute_script(\"window.scrollTo(0, %s);\" % -987654321)\n",
    "time.sleep(1)"
   ]
  },
  {
   "cell_type": "code",
   "execution_count": 230,
   "metadata": {
    "collapsed": false
   },
   "outputs": [],
   "source": [
    "slices = []\n",
    "driver.save_screenshot(\"screenshot1.png\")\n",
    "img = Image.open(StringIO(driver.get_screenshot_as_png()))\n",
    "first_scalar_location = driver.find_element_by_xpath('//*[@id=\"center\"]/div/tf-panes-helper/tf-collapsable-pane[1]/iron-collapse/div/div').location\n",
    "first_scalar_size = driver.find_element_by_xpath('//*[@id=\"center\"]/div/tf-panes-helper/tf-collapsable-pane[1]/iron-collapse/div/div').size\n",
    "img = img.crop((int(first_scalar_location['x']), int(first_scalar_location['y']), int(first_scalar_location['x'] + first_scalar_size['width']), int(first_scalar_location['y'] + first_scalar_size['height'])))\n",
    "slices.append(img)\n",
    "\n",
    "block_y_size = driver.find_element_by_xpath('//*[@id=\"center\"]/div/tf-panes-helper/tf-collapsable-pane[1]').size['height']\n",
    "for i in range(2, scalars_n+1):\n",
    "    driver.find_element_by_xpath('//*[@id=\"center\"]/div/tf-panes-helper/tf-collapsable-pane[' + str(i) + ']/iron-collapse').click()\n",
    "    time.sleep(1)\n",
    "    driver.execute_script(\"window.scrollTo(0, %s);\" % (block_y_size))\n",
    "    time.sleep(1)\n",
    "    driver.save_screenshot(\"screenshot\" + str(i) + \".png\")\n",
    "    img = Image.open(StringIO(driver.get_screenshot_as_png()))\n",
    "    scalar_location = driver.find_element_by_xpath('//*[@id=\"center\"]/div/tf-panes-helper/tf-collapsable-pane[' + str(i) + ']/iron-collapse/div/div').location\n",
    "    scalar_size = driver.find_element_by_xpath('//*[@id=\"center\"]/div/tf-panes-helper/tf-collapsable-pane[' + str(i) + ']/iron-collapse/div/div').size\n",
    "    img = img.crop((int(scalar_location['x']), int(scalar_location['y']), int(scalar_location['x'] + scalar_size['width']), int(scalar_location['y'] + scalar_size['height'])))\n",
    "    slices.append(img)"
   ]
  },
  {
   "cell_type": "code",
   "execution_count": 231,
   "metadata": {
    "collapsed": false
   },
   "outputs": [],
   "source": [
    "for i in range(0, scalars_n):\n",
    "    slices[i].save('./' + str(i) + '.png')"
   ]
  },
  {
   "cell_type": "code",
   "execution_count": 232,
   "metadata": {
    "collapsed": false
   },
   "outputs": [],
   "source": [
    "first_size = driver.find_element_by_xpath('//*[@id=\"center\"]/div/tf-panes-helper/tf-collapsable-pane[1]/iron-collapse/div/div').size\n",
    "\n",
    "screenshot = Image.new('RGB', (first_size['width'], scalars_n*first_size['height']))\n",
    "offset = 0\n",
    "for img in slices:\n",
    "    screenshot.paste(img, (0, int(offset)))\n",
    "    offset += img.size[1]\n",
    "\n",
    "screenshot.save('./test.png')"
   ]
  },
  {
   "cell_type": "markdown",
   "metadata": {},
   "source": [
    "SMTP 서버를 이용하자"
   ]
  },
  {
   "cell_type": "code",
   "execution_count": 256,
   "metadata": {
    "collapsed": true
   },
   "outputs": [],
   "source": [
    "#!/usr/bin/python\n",
    "# -*- coding:utf-8 -*-\n",
    "\n",
    "import smtplib  \n",
    "from email.MIMEMultipart import MIMEMultipart  \n",
    "from email.MIMEBase import MIMEBase  \n",
    "from email.MIMEText import MIMEText  \n",
    "from email import Encoders  \n",
    "from email import Utils  \n",
    "from email.header import Header  \n",
    "import os\n",
    "\n",
    "smtp_server  = r\"smtp.gmail.com\"  \n",
    "port = 587  \n",
    "userid = r\"s3213403@gmail.com\"  \n",
    "passwd = r\"z19pnoz19pno\"\n",
    "\n",
    "def send_mail(from_user, to_user, cc_users, subject, text, attach):  \n",
    "        COMMASPACE = \", \"\n",
    "        msg = MIMEMultipart(\"alternative\")\n",
    "        msg[\"From\"] = from_user\n",
    "        msg[\"To\"] = to_user\n",
    "        msg[\"Cc\"] = COMMASPACE.join(cc_users)\n",
    "        msg[\"Subject\"] = Header(s=subject, charset=\"utf-8\")\n",
    "        msg[\"Date\"] = Utils.formatdate(localtime = 1)\n",
    "        msg.attach(MIMEText(text, \"html\", _charset=\"utf-8\"))\n",
    "\n",
    "        if (attach != None):\n",
    "                part = MIMEBase(\"application\", \"octet-stream\")\n",
    "                part.set_payload(open(attach, \"rb\").read())\n",
    "                Encoders.encode_base64(part)\n",
    "                part.add_header(\"Content-Disposition\", \"attachment; filename=\\\"%s\\\"\" % os.path.basename(attach))\n",
    "                msg.attach(part)\n",
    "\n",
    "        smtp = smtplib.SMTP(smtp_server, port)\n",
    "        smtp.ehlo()\n",
    "        smtp.starttls()\n",
    "        smtp.login(userid, passwd)\n",
    "        smtp.sendmail(from_user, cc_users, msg.as_string())\n",
    "        smtp.close()"
   ]
  },
  {
   "cell_type": "code",
   "execution_count": 257,
   "metadata": {
    "collapsed": false
   },
   "outputs": [
    {
     "ename": "SMTPRecipientsRefused",
     "evalue": "{}",
     "output_type": "error",
     "traceback": [
      "\u001b[0;31m---------------------------------------------------------------------------\u001b[0m",
      "\u001b[0;31mSMTPRecipientsRefused\u001b[0m                     Traceback (most recent call last)",
      "\u001b[0;32m<ipython-input-257-c11289d36f1c>\u001b[0m in \u001b[0;36m<module>\u001b[0;34m()\u001b[0m\n\u001b[0;32m----> 1\u001b[0;31m \u001b[0msend_mail\u001b[0m\u001b[0;34m(\u001b[0m\u001b[0;34mr\"s3213403@gmail.com\"\u001b[0m\u001b[0;34m,\u001b[0m \u001b[0;34m\"sjh14@gist.ac.kr\"\u001b[0m\u001b[0;34m,\u001b[0m \u001b[0;34m[\u001b[0m\u001b[0;34m]\u001b[0m\u001b[0;34m,\u001b[0m \u001b[0;34m\"Telegram_test\"\u001b[0m\u001b[0;34m,\u001b[0m \u001b[0;34m\"telegram_test\"\u001b[0m\u001b[0;34m,\u001b[0m  \u001b[0;34m\"./test.png\"\u001b[0m\u001b[0;34m)\u001b[0m\u001b[0;34m\u001b[0m\u001b[0m\n\u001b[0m",
      "\u001b[0;32m<ipython-input-256-6152f563580b>\u001b[0m in \u001b[0;36msend_mail\u001b[0;34m(from_user, to_user, cc_users, subject, text, attach)\u001b[0m\n\u001b[1;32m     37\u001b[0m         \u001b[0msmtp\u001b[0m\u001b[0;34m.\u001b[0m\u001b[0mstarttls\u001b[0m\u001b[0;34m(\u001b[0m\u001b[0;34m)\u001b[0m\u001b[0;34m\u001b[0m\u001b[0m\n\u001b[1;32m     38\u001b[0m         \u001b[0msmtp\u001b[0m\u001b[0;34m.\u001b[0m\u001b[0mlogin\u001b[0m\u001b[0;34m(\u001b[0m\u001b[0muserid\u001b[0m\u001b[0;34m,\u001b[0m \u001b[0mpasswd\u001b[0m\u001b[0;34m)\u001b[0m\u001b[0;34m\u001b[0m\u001b[0m\n\u001b[0;32m---> 39\u001b[0;31m         \u001b[0msmtp\u001b[0m\u001b[0;34m.\u001b[0m\u001b[0msendmail\u001b[0m\u001b[0;34m(\u001b[0m\u001b[0mfrom_user\u001b[0m\u001b[0;34m,\u001b[0m \u001b[0mcc_users\u001b[0m\u001b[0;34m,\u001b[0m \u001b[0mmsg\u001b[0m\u001b[0;34m.\u001b[0m\u001b[0mas_string\u001b[0m\u001b[0;34m(\u001b[0m\u001b[0;34m)\u001b[0m\u001b[0;34m)\u001b[0m\u001b[0;34m\u001b[0m\u001b[0m\n\u001b[0m\u001b[1;32m     40\u001b[0m         \u001b[0msmtp\u001b[0m\u001b[0;34m.\u001b[0m\u001b[0mclose\u001b[0m\u001b[0;34m(\u001b[0m\u001b[0;34m)\u001b[0m\u001b[0;34m\u001b[0m\u001b[0m\n",
      "\u001b[0;32m/usr/lib/python2.7/smtplib.pyc\u001b[0m in \u001b[0;36msendmail\u001b[0;34m(self, from_addr, to_addrs, msg, mail_options, rcpt_options)\u001b[0m\n\u001b[1;32m    745\u001b[0m             \u001b[0;31m# the server refused all our recipients\u001b[0m\u001b[0;34m\u001b[0m\u001b[0;34m\u001b[0m\u001b[0m\n\u001b[1;32m    746\u001b[0m             \u001b[0mself\u001b[0m\u001b[0;34m.\u001b[0m\u001b[0mrset\u001b[0m\u001b[0;34m(\u001b[0m\u001b[0;34m)\u001b[0m\u001b[0;34m\u001b[0m\u001b[0m\n\u001b[0;32m--> 747\u001b[0;31m             \u001b[0;32mraise\u001b[0m \u001b[0mSMTPRecipientsRefused\u001b[0m\u001b[0;34m(\u001b[0m\u001b[0msenderrs\u001b[0m\u001b[0;34m)\u001b[0m\u001b[0;34m\u001b[0m\u001b[0m\n\u001b[0m\u001b[1;32m    748\u001b[0m         \u001b[0;34m(\u001b[0m\u001b[0mcode\u001b[0m\u001b[0;34m,\u001b[0m \u001b[0mresp\u001b[0m\u001b[0;34m)\u001b[0m \u001b[0;34m=\u001b[0m \u001b[0mself\u001b[0m\u001b[0;34m.\u001b[0m\u001b[0mdata\u001b[0m\u001b[0;34m(\u001b[0m\u001b[0mmsg\u001b[0m\u001b[0;34m)\u001b[0m\u001b[0;34m\u001b[0m\u001b[0m\n\u001b[1;32m    749\u001b[0m         \u001b[0;32mif\u001b[0m \u001b[0mcode\u001b[0m \u001b[0;34m!=\u001b[0m \u001b[0;36m250\u001b[0m\u001b[0;34m:\u001b[0m\u001b[0;34m\u001b[0m\u001b[0m\n",
      "\u001b[0;31mSMTPRecipientsRefused\u001b[0m: {}"
     ]
    }
   ],
   "source": [
    "send_mail(r\"s3213403@gmail.com\", \"sjh14@gist.ac.kr\", [\"sjh14@gist.ac.kr\"], \"Telegram_test\", \"telegram_test\",  \"./test.png\")"
   ]
  },
  {
   "cell_type": "code",
   "execution_count": null,
   "metadata": {
    "collapsed": true
   },
   "outputs": [],
   "source": []
  }
 ],
 "metadata": {
  "kernelspec": {
   "display_name": "Python 2",
   "language": "python",
   "name": "python2"
  },
  "language_info": {
   "codemirror_mode": {
    "name": "ipython",
    "version": 2
   },
   "file_extension": ".py",
   "mimetype": "text/x-python",
   "name": "python",
   "nbconvert_exporter": "python",
   "pygments_lexer": "ipython2",
   "version": "2.7.6"
  }
 },
 "nbformat": 4,
 "nbformat_minor": 1
}
